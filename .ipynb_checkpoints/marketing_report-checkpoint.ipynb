{
 "cells": [
  {
   "cell_type": "markdown",
   "metadata": {},
   "source": [
    "# Welcome to Marketing Report\n",
    "author: Jack Lau <br>\n",
    "last edit: 13/10/19 <br>\n",
    "purpose: this report is use to show the advertising spending and pricing info in intopia"
   ]
  },
  {
   "cell_type": "code",
   "execution_count": 36,
   "metadata": {},
   "outputs": [],
   "source": [
    "import pandas as pd\n",
    "import os\n",
    "from intopia_analysis import *"
   ]
  },
  {
   "cell_type": "code",
   "execution_count": 38,
   "metadata": {},
   "outputs": [
    {
     "ename": "TypeError",
     "evalue": "get_live_price_data() takes 1 positional argument but 2 were given",
     "output_type": "error",
     "traceback": [
      "\u001b[1;31m---------------------------------------------------------------------------\u001b[0m",
      "\u001b[1;31mTypeError\u001b[0m                                 Traceback (most recent call last)",
      "\u001b[1;32m<ipython-input-38-3432c8622966>\u001b[0m in \u001b[0;36m<module>\u001b[1;34m()\u001b[0m\n\u001b[0;32m      2\u001b[0m \u001b[1;33m\u001b[0m\u001b[0m\n\u001b[0;32m      3\u001b[0m \u001b[0mdf_contact\u001b[0m \u001b[1;33m=\u001b[0m \u001b[0mpd\u001b[0m\u001b[1;33m.\u001b[0m\u001b[0mread_csv\u001b[0m\u001b[1;33m(\u001b[0m\u001b[1;34m'Intopia - Contact List - Sheet1.csv'\u001b[0m\u001b[1;33m)\u001b[0m\u001b[1;33m\u001b[0m\u001b[0m\n\u001b[1;32m----> 4\u001b[1;33m \u001b[0mdf_price\u001b[0m \u001b[1;33m=\u001b[0m \u001b[0mget_live_price_data\u001b[0m\u001b[1;33m(\u001b[0m\u001b[0mpath\u001b[0m\u001b[1;33m,\u001b[0m\u001b[1;34m'phase2/period3/'\u001b[0m\u001b[1;33m)\u001b[0m \u001b[1;31m#<---- ademend path between library\u001b[0m\u001b[1;33m\u001b[0m\u001b[0m\n\u001b[0m\u001b[0;32m      5\u001b[0m \u001b[0mdf_ad\u001b[0m \u001b[1;33m=\u001b[0m \u001b[0mget_advertising_data\u001b[0m\u001b[1;33m(\u001b[0m\u001b[0mpath\u001b[0m\u001b[1;33m,\u001b[0m\u001b[1;34m'phase2/period4/'\u001b[0m\u001b[1;33m)\u001b[0m \u001b[1;31m#<---- ademend path between library\u001b[0m\u001b[1;33m\u001b[0m\u001b[0m\n",
      "\u001b[1;31mTypeError\u001b[0m: get_live_price_data() takes 1 positional argument but 2 were given"
     ]
    }
   ],
   "source": [
    "path = r'%s' % os.getcwd().replace('\\\\','/')\n",
    "\n",
    "df_contact = pd.read_csv('Intopia - Contact List - Sheet1.csv')\n",
    "df_price = get_live_price_data(path,'phase2/period3/') #<---- ademend path between library \n",
    "df_ad = get_advertising_data(path,'phase2/period4/') #<---- ademend path between library "
   ]
  },
  {
   "cell_type": "markdown",
   "metadata": {},
   "source": [
    "# Team Tracking"
   ]
  },
  {
   "cell_type": "code",
   "execution_count": 25,
   "metadata": {},
   "outputs": [
    {
     "data": {
      "text/html": [
       "<div>\n",
       "<style scoped>\n",
       "    .dataframe tbody tr th:only-of-type {\n",
       "        vertical-align: middle;\n",
       "    }\n",
       "\n",
       "    .dataframe tbody tr th {\n",
       "        vertical-align: top;\n",
       "    }\n",
       "\n",
       "    .dataframe thead th {\n",
       "        text-align: right;\n",
       "    }\n",
       "</style>\n",
       "<table border=\"1\" class=\"dataframe\">\n",
       "  <thead>\n",
       "    <tr style=\"text-align: right;\">\n",
       "      <th></th>\n",
       "      <th>Team Number</th>\n",
       "      <th>Team Member</th>\n",
       "      <th>Main Contact</th>\n",
       "      <th>Email</th>\n",
       "      <th>Facebook</th>\n",
       "    </tr>\n",
       "  </thead>\n",
       "  <tbody>\n",
       "    <tr>\n",
       "      <th>0</th>\n",
       "      <td>17</td>\n",
       "      <td>Berezovskaia, Katya</td>\n",
       "      <td>True</td>\n",
       "      <td>NaN</td>\n",
       "      <td>https://www.facebook.com/katyaberez</td>\n",
       "    </tr>\n",
       "    <tr>\n",
       "      <th>1</th>\n",
       "      <td>17</td>\n",
       "      <td>Lau, Jack</td>\n",
       "      <td>True</td>\n",
       "      <td>tlau012@uottawa.ca</td>\n",
       "      <td>https://www.facebook.com/yuen.lau.927</td>\n",
       "    </tr>\n",
       "    <tr>\n",
       "      <th>2</th>\n",
       "      <td>17</td>\n",
       "      <td>Duncan, Mackenzie</td>\n",
       "      <td>True</td>\n",
       "      <td>NaN</td>\n",
       "      <td>https://www.facebook.com/mac.duncan.712</td>\n",
       "    </tr>\n",
       "    <tr>\n",
       "      <th>3</th>\n",
       "      <td>17</td>\n",
       "      <td>Evan, Naylor</td>\n",
       "      <td>True</td>\n",
       "      <td>NaN</td>\n",
       "      <td>https://www.facebook.com/evan.naylor.79</td>\n",
       "    </tr>\n",
       "    <tr>\n",
       "      <th>77</th>\n",
       "      <td>17</td>\n",
       "      <td>Kaminski, Patrick</td>\n",
       "      <td>NaN</td>\n",
       "      <td>NaN</td>\n",
       "      <td>https://www.facebook.com/patrick.kaminski.29</td>\n",
       "    </tr>\n",
       "  </tbody>\n",
       "</table>\n",
       "</div>"
      ],
      "text/plain": [
       "    Team Number          Team Member Main Contact               Email  \\\n",
       "0            17  Berezovskaia, Katya         True                 NaN   \n",
       "1            17            Lau, Jack         True  tlau012@uottawa.ca   \n",
       "2            17    Duncan, Mackenzie         True                 NaN   \n",
       "3            17         Evan, Naylor         True                 NaN   \n",
       "77           17    Kaminski, Patrick          NaN                 NaN   \n",
       "\n",
       "                                        Facebook  \n",
       "0            https://www.facebook.com/katyaberez  \n",
       "1          https://www.facebook.com/yuen.lau.927  \n",
       "2        https://www.facebook.com/mac.duncan.712  \n",
       "3        https://www.facebook.com/evan.naylor.79  \n",
       "77  https://www.facebook.com/patrick.kaminski.29  "
      ]
     },
     "execution_count": 25,
     "metadata": {},
     "output_type": "execute_result"
    }
   ],
   "source": [
    "team_tracker(df_contact, 17) #<-- admend the team you want information regarding"
   ]
  },
  {
   "cell_type": "markdown",
   "metadata": {},
   "source": [
    "# Marketing Expense Tracking"
   ]
  },
  {
   "cell_type": "markdown",
   "metadata": {},
   "source": [
    "## Central Canada Marketing Expese"
   ]
  },
  {
   "cell_type": "code",
   "execution_count": null,
   "metadata": {
    "scrolled": true
   },
   "outputs": [],
   "source": [
    "df_ad[df_ad['region'] == 'cc'].sort_values(by='Total', ascending=False)"
   ]
  },
  {
   "cell_type": "markdown",
   "metadata": {},
   "source": [
    "## Western Canada Marketing Expese"
   ]
  },
  {
   "cell_type": "code",
   "execution_count": null,
   "metadata": {},
   "outputs": [],
   "source": [
    "df_ad[df_ad['region'] == 'wc'].sort_values(by=['type','Total'], ascending=False)"
   ]
  },
  {
   "cell_type": "markdown",
   "metadata": {},
   "source": [
    "# Pricing Information"
   ]
  },
  {
   "cell_type": "code",
   "execution_count": null,
   "metadata": {},
   "outputs": [],
   "source": [
    "print('Central Canada Price')\n",
    "df_price[df_price['region'] == 'cc'].sort_values(by='Standard Price Cannabis', ascending=False)"
   ]
  },
  {
   "cell_type": "code",
   "execution_count": null,
   "metadata": {},
   "outputs": [],
   "source": [
    "print('Western Canada Price')\n",
    "df_price[df_price['region'] == 'wc'].sort_values(by='Standard Price Cannabis', ascending=False)"
   ]
  },
  {
   "cell_type": "code",
   "execution_count": null,
   "metadata": {},
   "outputs": [],
   "source": [
    "print('Eastern Canada Price')\n",
    "df_price[df_price['region'] == 'ec'].sort_values(by='Standard Price Cannabis', ascending=False)"
   ]
  }
 ],
 "metadata": {
  "kernelspec": {
   "display_name": "Python 3",
   "language": "python",
   "name": "python3"
  },
  "language_info": {
   "codemirror_mode": {
    "name": "ipython",
    "version": 3
   },
   "file_extension": ".py",
   "mimetype": "text/x-python",
   "name": "python",
   "nbconvert_exporter": "python",
   "pygments_lexer": "ipython3",
   "version": "3.7.0"
  }
 },
 "nbformat": 4,
 "nbformat_minor": 2
}
